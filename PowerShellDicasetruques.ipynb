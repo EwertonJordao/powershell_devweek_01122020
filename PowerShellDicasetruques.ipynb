{
 "cells": [
  {
   "cell_type": "markdown",
   "metadata": {},
   "source": [
    "# PowerShell dicas e truques\r\n",
    "\r\n",
    "Conteudo apresentado no **DevWeek** 01/12/2020 [live](https://www.youtube.com/watch?v=JF0p7rlHYU0) do **Canal dotNET**.  \r\n",
    "\r\n",
    "## Requisito ⚠\r\n",
    "\r\n",
    "[PowerShell 7](https://github.com/PowerShell/PowerShell/releases/tag/v7.1.0/)\r\n",
    "\r\n",
    "~~[WSL](https://docs.microsoft.com/pt-br/windows/wsl/install-win10)~~\r\n",
    "\r\n",
    "[Windows Terminal](https://www.microsoft.com/pt-br/p/windows-terminal/9n0dx20hk701?activetab=pivot:overviewtab)\r\n",
    "\r\n",
    "[Visual Studio Code](https://code.visualstudio.com/)\r\n",
    "\r\n",
    "[.Net Core 3.1](https://dotnet.microsoft.com/download/dotnet-core)\r\n",
    "\r\n",
    "[.Net interactive](https://github.com/dotnet/interactive)\r\n",
    "\r\n",
    "______\r\n",
    "\r\n",
    "- Consumo de API.\r\n",
    "\r\n",
    "1. Exemplo com querystring\r\n",
    "2. Exemplo passando os parametros no body"
   ]
  },
  {
   "cell_type": "code",
   "execution_count": null,
   "metadata": {},
   "outputs": [],
   "source": [
    "Add-Type -AssemblyName System.Web\r\n",
    "$urlParam = @{\r\n",
    "    urlPage  = \"https://cat-fact.herokuapp.com\"\r\n",
    "    uriPage = \"/facts/random\"\r\n",
    "    method   = \"Get\"\r\n",
    "}\r\n",
    "$bodyParam = [Ordered]@{\r\n",
    "    animal_type = @(\"horse\", \"cat\", \"dog\", \"snail\") | Get-Random \r\n",
    "    amount      = 1\r\n",
    "}\r\n",
    "\r\n",
    "$qCollection = [System.Web.HttpUtility]::ParseQueryString([String]::Empty)\r\n",
    "foreach ($key in $bodyParam.Keys) {\r\n",
    "    $qCollection.Add($key, $($bodyParam.\"$key\") )\r\n",
    "}\r\n",
    "$uriBuilder = [System.UriBuilder] -join ($urlParam.urlPage, $urlParam.uriPage)\r\n",
    "$uriBuilder.Query = $qCollection.ToString()\r\n",
    "$returnRequest = Invoke-RestMethod -Uri \"$($uriBuilder.Uri)\" -Method $urlParam.method\r\n",
    "$returnRequest"
   ]
  },
  {
   "cell_type": "code",
   "execution_count": null,
   "metadata": {},
   "outputs": [],
   "source": [
    "$restParam = @{\r\n",
    "    Uri  = \"https://jsonplaceholder.typicode.com/posts\"\r\n",
    "    Method   = \"Post\"\r\n",
    "    Headers = [Ordered]@{\"Content-Type\"=\"application/json\";\"charset\"=\"UTF-8\"}\r\n",
    "    Body = @{\"title\"=\"Sample\";\"body\"=\"Ola Mundo\";\"userId\"=1} | ConvertTo-Json\r\n",
    "}\r\n",
    "$result = Invoke-RestMethod @restParam\r\n",
    "$result"
   ]
  },
  {
   "cell_type": "markdown",
   "metadata": {},
   "source": [
    "- Utilizando Alias\r\n",
    "\r\n",
    "Alias facilitam muito a vida de qualquer desenvolvedor, no __PowerShell__ temos a possibilidade de criar os nossos próprios __Alias__ para os comandos que utilizamos.\r\n"
   ]
  },
  {
   "cell_type": "code",
   "execution_count": null,
   "metadata": {},
   "outputs": [],
   "source": [
    "New-Alias -Name dn -Value \"dotnet.exe\"\r\n",
    "dn new\r\n",
    "function dotnetnew { \r\n",
    "    dotnet.exe new $args\r\n",
    "}\r\n",
    "New-Alias -Name dnn -Value dotnetnew \r\n",
    "dnn console -n aplicacaoconsole\r\n"
   ]
  },
  {
   "cell_type": "markdown",
   "metadata": {},
   "source": [
    "Dica: O alias da maneira que criamos **existe** enquanto a sua sessão PowerShell estiver **ativa**, para persistir o valor dos alias definidos você deve exportar os alias ou incluir a criação dos alias no seu arquivo de **profile**."
   ]
  },
  {
   "cell_type": "code",
   "execution_count": 14,
   "metadata": {},
   "outputs": [],
   "source": [
    "$PROFILE | Select-Object * | Format-List"
   ]
  },
  {
   "cell_type": "markdown",
   "metadata": {},
   "source": [
    "_________________\r\n",
    "\r\n",
    "- PowerShell com a commandline do VSCode\r\n",
    "\r\n",
    "Utilizando o PowerShell para instalar extensões no Visual Studio Code."
   ]
  },
  {
   "cell_type": "code",
   "execution_count": null,
   "metadata": {},
   "outputs": [],
   "source": [
    "$contentFile = @\"\r\n",
    "AwesomeAutomationTeam.azureautomation \r\n",
    "Azure.vscode-bicep\r\n",
    "bierner.markdown-preview-github-styles\r\n",
    "cssho.vscode-svgviewer\r\n",
    "DavidAnson.vscode-markdownlint\r\n",
    "docsmsft.docs-markdown\r\n",
    "DotJoshJohnson.xml\r\n",
    "dunstontc.vscode-docker-syntax\r\n",
    "henoc.svgeditor\r\n",
    "jock.svg\r\n",
    "ms-azuretools.vscode-azurefunctions\r\n",
    "ms-azuretools.vscode-azurevirtualmachines\r\n",
    "ms-azuretools.vscode-cosmosdb\r\n",
    "ms-azuretools.vscode-docker\r\n",
    "ms-azuretools.vscode-logicapps\r\n",
    "ms-dotnettools.csharp\r\n",
    "ms-dotnettools.vscode-dotnet-runtime\r\n",
    "ms-python.python\r\n",
    "ms-toolsai.jupyter\r\n",
    "ms-vscode-remote.remote-containers\r\n",
    "ms-vscode-remote.remote-ssh\r\n",
    "ms-vscode-remote.remote-ssh-edit\r\n",
    "ms-vscode-remote.remote-wsl\r\n",
    "ms-vscode-remote.vscode-remote-extensionpack\r\n",
    "ms-vscode.azure-account\r\n",
    "ms-vscode.azurecli\r\n",
    "ms-vscode.powershell\r\n",
    "ms-vscode.powershell-preview\r\n",
    "ms-vsliveshare.vsliveshare\r\n",
    "ms-vsonline.vsonline\r\n",
    "msazurermtools.azurerm-vscode-tools\r\n",
    "redhat.vscode-yaml\r\n",
    "shd101wyy.markdown-preview-enhanced\r\n",
    "SimonSiefke.svg-preview\r\n",
    "Tyriar.shell-launcher\r\n",
    "\"@\r\n",
    "New-item \"$home\\desktop\" -Name extensionsvscode.txt -itemtype file -value $contentFile\r\n",
    "\r\n",
    "Get-Content \"$home\\desktop\\extensionsvscode.txt\" | ForEach-Object {\r\n",
    "   code-insiders.cmd  --install-extension  $_\r\n",
    "}"
   ]
  },
  {
   "cell_type": "markdown",
   "metadata": {},
   "source": [
    "- Utilizando codigo C# no PowerShell\r\n",
    "\r\n",
    "Dando novos poderes para a sua linha de comando. \r\n",
    "\r\n",
    "1. Exemplo com codigo C# e adicionando a sessão\r\n",
    "2. Exemplo Definindo uma função PowerShell e utilizando namespaces"
   ]
  },
  {
   "cell_type": "code",
   "execution_count": null,
   "metadata": {},
   "outputs": [],
   "source": [
    "#!pwsh\r\n",
    "$codigoCsharp = @\"\r\n",
    "using System;\r\n",
    "using System.Net;\r\n",
    "using System.Net.NetworkInformation;\r\n",
    "using System.Text;\r\n",
    "\r\n",
    "namespace Examples.System.Net.NetworkInformation.PingTest\r\n",
    "{\r\n",
    "    public class PingExample\r\n",
    "    {\r\n",
    "        // args[0] can be an IPaddress or host name.\r\n",
    "        public static void Main (string[] args)\r\n",
    "        {\r\n",
    "            Ping pingSender = new Ping ();\r\n",
    "            PingOptions options = new PingOptions ();\r\n",
    "\r\n",
    "            // Use the default Ttl value which is 128,\r\n",
    "            // but change the fragmentation behavior.\r\n",
    "            options.DontFragment = true;\r\n",
    "\r\n",
    "            // Create a buffer of 32 bytes of data to be transmitted.\r\n",
    "            string data = \"aaaaaaaaaaaaaaaaaaaaaaaaaaaaaaaa\";\r\n",
    "            byte[] buffer = Encoding.ASCII.GetBytes (data);\r\n",
    "            int timeout = 120;\r\n",
    "            PingReply reply = pingSender.Send (args[0], timeout, buffer, options);\r\n",
    "            if (reply.Status == IPStatus.Success)\r\n",
    "            {\r\n",
    "                Console.WriteLine (\"Address: {0}\", reply.Address.ToString ());\r\n",
    "                \r\n",
    "                Console.WriteLine (\"RoundTrip time: {0}\", reply.RoundtripTime);\r\n",
    "                Console.WriteLine (\"Time to live: {0}\", reply.Options.Ttl);\r\n",
    "                Console.WriteLine (\"Don't fragment: {0}\", reply.Options.DontFragment);\r\n",
    "                Console.WriteLine (\"Buffer size: {0}\", reply.Buffer.Length);\r\n",
    "            }\r\n",
    "        }\r\n",
    "    }\r\n",
    "}\r\n",
    "\"@\r\n",
    "Add-Type -TypeDefinition $codigoCsharp -Language CSharp\r\n",
    "Invoke-Expression \"[Examples.System.Net.NetworkInformation.PingTest.PingExample]::Main(`\"1.1.1.1`\")\"\r\n",
    "#[HelloWorld.Program]::Main()"
   ]
  },
  {
   "cell_type": "code",
   "execution_count": null,
   "metadata": {},
   "outputs": [],
   "source": [
    "#!pwsh\r\n",
    "function Test-Ping {\r\n",
    "    [CmdletBinding()]\r\n",
    "    param (\r\n",
    "        [Parameter(Mandatory, Position = 0)]\r\n",
    "        [string]\r\n",
    "        $IPaddress\r\n",
    "    )\r\n",
    "    $pingSender = New-Object System.Net.NetworkInformation.Ping\r\n",
    "    $pingOptions = [System.Net.NetworkInformation.PingOptions]::new()\r\n",
    "    $pingOptions.DontFragment = $true\r\n",
    "    $data = -join (1..32 | % {\"a\"})\r\n",
    "    $bufferData = @([System.Text.ASCIIEncoding]::ASCII.GetBytes($data))\r\n",
    "    [int]$timeout = 120\r\n",
    "    [System.Net.NetworkInformation.PingReply]$pingReplay = $pingSender.Send($IPaddress,$timeout,$bufferData,$pingOptions)\r\n",
    "    if ($pingReplay.Status -eq \"Success\") {\r\n",
    "        [PSCustomObject]@{\r\n",
    "            \"Address\" = $pingReplay.Address\r\n",
    "            \"RoundTrip time\" = $pingReplay.RoundtripTime\r\n",
    "            \"TTL\" =  $pingReplay.Options.Ttl\r\n",
    "            \"Fragment\" = $pingReplay.Options.DontFragment\r\n",
    "            \"BufferSize\" = $pingReplay.Buffer.Length\r\n",
    "        } | Format-List\r\n",
    "    }\r\n",
    "}"
   ]
  },
  {
   "cell_type": "markdown",
   "metadata": {},
   "source": [
    "- Windows Terminal\r\n",
    "\r\n",
    "Iniciando o seu Windows Terminal utilizando uma função no __PowerShell__."
   ]
  },
  {
   "cell_type": "code",
   "execution_count": 3,
   "metadata": {},
   "outputs": [],
   "source": [
    "function New-WinTerminal {\r\n",
    "    wt.exe  new-tab  `; split-pane -p \"Windows PowerShell\" `; split-pane -H wsl.exe\r\n",
    "}\r\n",
    "New-WinTerminal"
   ]
  },
  {
   "cell_type": "markdown",
   "metadata": {},
   "source": [
    "## Referência ✅\r\n",
    "\r\n",
    "[SDK PowerShell](https://docs.microsoft.com/en-us/dotnet/api/system.management.automation?view=powershellsdk-7.0.0)\r\n",
    "\r\n",
    "[PowerShell Docs](https://docs.microsoft.com/pt-br/powershell/scripting/how-to-use-docs?view=powershell-7.1)\r\n",
    "\r\n",
    "[PowerShell Team GitHub](https://github.com/PowerShell)\r\n",
    "\r\n",
    "[Pester](https://pester-docs.netlify.app/docs/quick-start#creating-a-pester-test)\r\n",
    "\r\n",
    "[PowerShell 101 free book](https://leanpub.com/powershell101)\r\n",
    "\r\n",
    "[WindowsTerminal Docs](https://docs.microsoft.com/pt-br/windows/terminal/)\r\n",
    "\r\n",
    "[WindowsTerminal GitHub](https://github.com/microsoft/terminal)\r\n",
    "\r\n",
    "[WSL Docs](https://docs.microsoft.com/en-us/windows/wsl/about)\r\n",
    "\r\n",
    "[WSL Release Notes](https://docs.microsoft.com/en-us/windows/wsl/release-notes)\r\n",
    "\r\n"
   ]
  }
 ],
 "metadata": {
  "kernelspec": {
   "display_name": ".NET (PowerShell)",
   "name": ".net-powershell"
  },
  "language_info": {
   "file_extension": ".ps1",
   "mimetype": "text/x-powershell",
   "name": "PowerShell",
   "pygments_lexer": "powershell",
   "version": "7.0"
  },
  "orig_nbformat": 2
 },
 "nbformat": 4,
 "nbformat_minor": 2
}